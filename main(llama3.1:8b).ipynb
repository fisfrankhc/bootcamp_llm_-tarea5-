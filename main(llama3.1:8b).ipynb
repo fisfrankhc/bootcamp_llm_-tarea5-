{
 "cells": [
  {
   "cell_type": "code",
   "execution_count": 77,
   "metadata": {},
   "outputs": [],
   "source": [
    "import pandas as pd\n",
    "\n",
    "# Cargar datos\n",
    "file_path = 'databd/datos_procesados.csv'\n",
    "data = pd.read_csv(file_path)"
   ]
  },
  {
   "cell_type": "code",
   "execution_count": 78,
   "metadata": {},
   "outputs": [],
   "source": [
    "from typing import List\n",
    "\n",
    "def preparar_textos(df: pd.DataFrame) -> List[str]:\n",
    "    \"\"\"\n",
    "    Prepara una lista de textos a partir de un DataFrame consolidado.\n",
    "\n",
    "    Args:\n",
    "        df (pd.DataFrame): DataFrame consolidado.\n",
    "\n",
    "    Returns:\n",
    "        List[str]: Lista de textos preparados para el modelo.\n",
    "    \"\"\"\n",
    "    #textos = df.apply(lambda row: f\"IDVenta: {row['venta_id']}, Fecha de Venta: {row['venta_fecha']}, Proceso: {row['venta_proceso']}, IDproducto: {row['prod_id']}, Producto: {row['prod_nombre']}, Cantidad Vendida: {row['cantidad_venta']}, Precio Venta: {row['precio_venta_x']}, Sucursal: {row['suc_nombre']}, Vendedor: {row['user_name']}\",axis=1)\n",
    "    textos = df.apply(lambda row: (\n",
    "        f\"ID Venta: {row['venta_id']}, \"\n",
    "        f\"Fecha de Venta: {row['venta_fecha']}, \"\n",
    "        f\"Proceso: {row['venta_proceso']}, \"\n",
    "        f\"ID Producto: {row['prod_id']}, \"\n",
    "        f\"Producto: {row['prod_nombre']}, \"\n",
    "        f\"Cantidad Vendida: {row['cantidad_venta']}, \"\n",
    "        f\"Precio Venta: {row['precio_venta_x']}, \"\n",
    "        f\"Sucursal: {row['suc_nombre']}, \"\n",
    "        f\"Vendedor: {row['user_name']}\"\n",
    "    ), axis=1)\n",
    "    return textos.tolist()\n",
    "\n",
    "# Preparar textos\n",
    "textos_preparados = preparar_textos(data) # Preparar textos a partir de los datos consolidados del DataFrame 'data' \n",
    "context_str = \"\\n\".join(textos_preparados) # Unir textos en un solo string separados por salto de línea '\\n'"
   ]
  },
  {
   "cell_type": "code",
   "execution_count": 79,
   "metadata": {},
   "outputs": [
    {
     "data": {
      "text/plain": [
       "['ID Venta: 147, Fecha de Venta: 2024-07-12, Proceso: PROFORMA, ID Producto: 18, Producto: KIT CASA MELASMA VERDE, Cantidad Vendida: 1.0, Precio Venta: 420.0, Sucursal: Central, Vendedor: master',\n",
       " 'ID Venta: 148, Fecha de Venta: 2024-07-12, Proceso: PROFORMA, ID Producto: 18, Producto: KIT CASA MELASMA VERDE, Cantidad Vendida: 1.0, Precio Venta: 420.0, Sucursal: Central, Vendedor: master',\n",
       " 'ID Venta: 149, Fecha de Venta: 2024-07-12, Proceso: PROFORMA, ID Producto: 23, Producto: FORMULA 3: TRI L, Cantidad Vendida: 1.0, Precio Venta: 209.0, Sucursal: Central, Vendedor: master',\n",
       " 'ID Venta: 150, Fecha de Venta: 2024-07-12, Proceso: PROFORMA, ID Producto: 18, Producto: KIT CASA MELASMA VERDE, Cantidad Vendida: 1.0, Precio Venta: 420.0, Sucursal: Central, Vendedor: master',\n",
       " 'ID Venta: 151, Fecha de Venta: 2024-07-12, Proceso: PROFORMA, ID Producto: 24, Producto: HYALU B5 SERUM 30ML, Cantidad Vendida: 1.0, Precio Venta: 207.0, Sucursal: Central, Vendedor: master',\n",
       " 'ID Venta: 152, Fecha de Venta: 2024-07-15, Proceso: PROFORMA, ID Producto: 24, Producto: HYALU B5 SERUM 30ML, Cantidad Vendida: 1.0, Precio Venta: 207.0, Sucursal: Central, Vendedor: master',\n",
       " 'ID Venta: 153, Fecha de Venta: 2024-07-15, Proceso: PROFORMA, ID Producto: 42, Producto: PHOTODERM SPOT-AGE  SPF  50+ 40ML\\t, Cantidad Vendida: 1.0, Precio Venta: 130.0, Sucursal: Central, Vendedor: master',\n",
       " 'ID Venta: 154, Fecha de Venta: 2024-07-15, Proceso: PAGADO, ID Producto: 38, Producto: CETAPHIL PRO AD CONTROL , Cantidad Vendida: 1.0, Precio Venta: 140.0, Sucursal: Central, Vendedor: master',\n",
       " 'ID Venta: 155, Fecha de Venta: 2024-07-15, Proceso: PROFORMA, ID Producto: 46, Producto: EFFACLAR BB BLUR  30ML\\t, Cantidad Vendida: 1.0, Precio Venta: 116.0, Sucursal: Central, Vendedor: master',\n",
       " 'ID Venta: 156, Fecha de Venta: 2024-07-26, Proceso: PROFORMA, ID Producto: 88, Producto: PERSPIREX COMFORT ROLL ON X 20 ML\\t, Cantidad Vendida: 1.0, Precio Venta: 67.0, Sucursal: Central, Vendedor: master',\n",
       " 'ID Venta: 157, Fecha de Venta: 2024-07-26, Proceso: PROFORMA, ID Producto: 88, Producto: PERSPIREX COMFORT ROLL ON X 20 ML\\t, Cantidad Vendida: 1.0, Precio Venta: 67.0, Sucursal: Central, Vendedor: master',\n",
       " 'ID Venta: 158, Fecha de Venta: 2024-07-26, Proceso: PROFORMA, ID Producto: 34, Producto: PHOTODERM AQUAFLUIDE DORE TE40ML, Cantidad Vendida: 1.0, Precio Venta: 166.0, Sucursal: Central, Vendedor: master',\n",
       " 'ID Venta: 158, Fecha de Venta: 2024-07-26, Proceso: PROFORMA, ID Producto: 35, Producto: PHOTODERM COVER TOUCH FL DOREE 50 + T 40GR\\t, Cantidad Vendida: 1.0, Precio Venta: 157.0, Sucursal: Central, Vendedor: master',\n",
       " 'ID Venta: 158, Fecha de Venta: 2024-07-26, Proceso: PROFORMA, ID Producto: 48, Producto: PHOTODERM AR SPF50+  , Cantidad Vendida: 1.0, Precio Venta: 115.0, Sucursal: Central, Vendedor: master',\n",
       " 'ID Venta: 158, Fecha de Venta: 2024-07-26, Proceso: PROFORMA, ID Producto: 42, Producto: PHOTODERM SPOT-AGE  SPF  50+ 40ML\\t, Cantidad Vendida: 1.0, Precio Venta: 130.0, Sucursal: Central, Vendedor: master',\n",
       " 'ID Venta: 158, Fecha de Venta: 2024-07-26, Proceso: PROFORMA, ID Producto: 61, Producto: PHOTODERM M TEINE DOREE TE40ML\\t, Cantidad Vendida: 1.0, Precio Venta: 103.0, Sucursal: Central, Vendedor: master',\n",
       " 'ID Venta: 158, Fecha de Venta: 2024-07-26, Proceso: PROFORMA, ID Producto: 51, Producto: PHOTODERM MAX FLUIDE TE40ML SPF100 NC, Cantidad Vendida: 1.0, Precio Venta: 110.0, Sucursal: Central, Vendedor: master',\n",
       " 'ID Venta: 159, Fecha de Venta: 2024-07-26, Proceso: PROFORMA, ID Producto: 24, Producto: HYALU B5 SERUM 30ML, Cantidad Vendida: 1.0, Precio Venta: 207.0, Sucursal: Central, Vendedor: master',\n",
       " 'ID Venta: 160, Fecha de Venta: 2024-07-27, Proceso: PROFORMA, ID Producto: 33, Producto: FISSOZONO CREMA  ANTIEDAD NOCHE 50 ML, Cantidad Vendida: 1.0, Precio Venta: 170.0, Sucursal: Central, Vendedor: master',\n",
       " 'ID Venta: 161, Fecha de Venta: 2024-07-27, Proceso: PROFORMA, ID Producto: 34, Producto: PHOTODERM AQUAFLUIDE DORE TE40ML, Cantidad Vendida: 1.0, Precio Venta: 166.0, Sucursal: Central, Vendedor: master',\n",
       " 'ID Venta: 162, Fecha de Venta: 2024-07-27, Proceso: PROFORMA, ID Producto: 42, Producto: PHOTODERM SPOT-AGE  SPF  50+ 40ML\\t, Cantidad Vendida: 1.0, Precio Venta: 130.0, Sucursal: Central, Vendedor: master',\n",
       " 'ID Venta: 163, Fecha de Venta: 2024-07-27, Proceso: PROFORMA, ID Producto: 27, Producto: FISSERUM HYALURONIC 100, 30 ML\\t, Cantidad Vendida: 1.0, Precio Venta: 176.0, Sucursal: Central, Vendedor: master',\n",
       " 'ID Venta: 164, Fecha de Venta: 2024-07-28, Proceso: PROFORMA, ID Producto: 42, Producto: PHOTODERM SPOT-AGE  SPF  50+ 40ML\\t, Cantidad Vendida: 1.0, Precio Venta: 130.0, Sucursal: Central, Vendedor: master',\n",
       " 'ID Venta: 165, Fecha de Venta: 2024-07-28, Proceso: PROFORMA, ID Producto: 33, Producto: FISSOZONO CREMA  ANTIEDAD NOCHE 50 ML, Cantidad Vendida: 1.0, Precio Venta: 170.0, Sucursal: Central, Vendedor: master',\n",
       " 'ID Venta: 166, Fecha de Venta: 2024-07-29, Proceso: PROFORMA, ID Producto: 33, Producto: FISSOZONO CREMA  ANTIEDAD NOCHE 50 ML, Cantidad Vendida: 1.0, Precio Venta: 170.0, Sucursal: Central, Vendedor: master',\n",
       " 'ID Venta: 167, Fecha de Venta: 2024-07-30, Proceso: PROFORMA, ID Producto: 27, Producto: FISSERUM HYALURONIC 100, 30 ML\\t, Cantidad Vendida: 1.0, Precio Venta: 176.0, Sucursal: Central, Vendedor: master',\n",
       " 'ID Venta: 168, Fecha de Venta: 2024-07-30, Proceso: PROFORMA, ID Producto: 40, Producto: FREZYDERM VELVET SUNSCREEN COLOR FACE SPF50+\\tSSOMA , Cantidad Vendida: 1.0, Precio Venta: 138.0, Sucursal: Central, Vendedor: master',\n",
       " 'ID Venta: 169, Fecha de Venta: 2024-07-30, Proceso: PROFORMA, ID Producto: 42, Producto: PHOTODERM SPOT-AGE  SPF  50+ 40ML\\t, Cantidad Vendida: 1.0, Precio Venta: 130.0, Sucursal: Central, Vendedor: master',\n",
       " 'ID Venta: 170, Fecha de Venta: 2024-07-30, Proceso: PROFORMA, ID Producto: 33, Producto: FISSOZONO CREMA  ANTIEDAD NOCHE 50 ML, Cantidad Vendida: 1.0, Precio Venta: 170.0, Sucursal: Central, Vendedor: master',\n",
       " 'ID Venta: 171, Fecha de Venta: 2024-07-30, Proceso: PROFORMA, ID Producto: 33, Producto: FISSOZONO CREMA  ANTIEDAD NOCHE 50 ML, Cantidad Vendida: 1.0, Precio Venta: 170.0, Sucursal: Central, Vendedor: master',\n",
       " 'ID Venta: 171, Fecha de Venta: 2024-07-30, Proceso: PROFORMA, ID Producto: 27, Producto: FISSERUM HYALURONIC 100, 30 ML\\t, Cantidad Vendida: 1.0, Precio Venta: 176.0, Sucursal: Central, Vendedor: master',\n",
       " 'ID Venta: 171, Fecha de Venta: 2024-07-30, Proceso: PROFORMA, ID Producto: 30, Producto: FISSERUM NIGTH RETINOL 3 COMPLEX, SQUALANE, HYALURONIC, 30ML\\t, Cantidad Vendida: 1.0, Precio Venta: 170.0, Sucursal: Central, Vendedor: master',\n",
       " 'ID Venta: 172, Fecha de Venta: 2024-07-30, Proceso: PROFORMA, ID Producto: 42, Producto: PHOTODERM SPOT-AGE  SPF  50+ 40ML\\t, Cantidad Vendida: 1.0, Precio Venta: 130.0, Sucursal: Central, Vendedor: master',\n",
       " 'ID Venta: 173, Fecha de Venta: 2024-07-30, Proceso: PROFORMA, ID Producto: 48, Producto: PHOTODERM AR SPF50+  , Cantidad Vendida: 1.0, Precio Venta: 115.0, Sucursal: Central, Vendedor: master',\n",
       " 'ID Venta: 174, Fecha de Venta: 2024-07-31, Proceso: PROFORMA, ID Producto: 32, Producto: FISSOZONO CREMA  ANTIEDAD DIA 50 ML\\t, Cantidad Vendida: 1.0, Precio Venta: 170.0, Sucursal: Central, Vendedor: master',\n",
       " 'ID Venta: 175, Fecha de Venta: 2024-07-31, Proceso: PROFORMA, ID Producto: 42, Producto: PHOTODERM SPOT-AGE  SPF  50+ 40ML\\t, Cantidad Vendida: 1.0, Precio Venta: 130.0, Sucursal: Central, Vendedor: master',\n",
       " 'ID Venta: 176, Fecha de Venta: 2024-07-31, Proceso: PROFORMA, ID Producto: 33, Producto: FISSOZONO CREMA  ANTIEDAD NOCHE 50 ML, Cantidad Vendida: 1.0, Precio Venta: 170.0, Sucursal: Central, Vendedor: master',\n",
       " 'ID Venta: 177, Fecha de Venta: 2024-07-31, Proceso: PAGADO, ID Producto: 32, Producto: FISSOZONO CREMA  ANTIEDAD DIA 50 ML\\t, Cantidad Vendida: 1.0, Precio Venta: 170.0, Sucursal: Central, Vendedor: master',\n",
       " 'ID Venta: 178, Fecha de Venta: 2024-07-31, Proceso: PAGADO, ID Producto: 18, Producto: KIT CASA MELASMA VERDE, Cantidad Vendida: 1.0, Precio Venta: 420.0, Sucursal: Central, Vendedor: master',\n",
       " 'ID Venta: 179, Fecha de Venta: 2024-07-31, Proceso: PAGADO, ID Producto: 18, Producto: KIT CASA MELASMA VERDE, Cantidad Vendida: 1.0, Precio Venta: 420.0, Sucursal: Central, Vendedor: master',\n",
       " 'ID Venta: 180, Fecha de Venta: 2024-07-31, Proceso: PAGADO, ID Producto: 18, Producto: KIT CASA MELASMA VERDE, Cantidad Vendida: 1.0, Precio Venta: 420.0, Sucursal: Central, Vendedor: master',\n",
       " 'ID Venta: 180, Fecha de Venta: 2024-07-31, Proceso: PAGADO, ID Producto: 19, Producto: KIT CASA  ACNE AZUL, Cantidad Vendida: 1.0, Precio Venta: 370.0, Sucursal: Central, Vendedor: master',\n",
       " 'ID Venta: 181, Fecha de Venta: 2024-07-31, Proceso: PAGADO, ID Producto: 23, Producto: FORMULA 3: TRI L, Cantidad Vendida: 3.0, Precio Venta: 209.0, Sucursal: Central, Vendedor: master',\n",
       " 'ID Venta: 181, Fecha de Venta: 2024-07-31, Proceso: PAGADO, ID Producto: 18, Producto: KIT CASA MELASMA VERDE, Cantidad Vendida: 2.0, Precio Venta: 420.0, Sucursal: Central, Vendedor: master',\n",
       " 'ID Venta: 182, Fecha de Venta: 2024-07-31, Proceso: PROFORMA, ID Producto: 27, Producto: FISSERUM HYALURONIC 100, 30 ML\\t, Cantidad Vendida: 1.0, Precio Venta: 176.0, Sucursal: Central, Vendedor: master',\n",
       " 'ID Venta: 183, Fecha de Venta: 2024-07-31, Proceso: PROFORMA, ID Producto: 33, Producto: FISSOZONO CREMA  ANTIEDAD NOCHE 50 ML, Cantidad Vendida: 1.0, Precio Venta: 170.0, Sucursal: Central, Vendedor: master',\n",
       " 'ID Venta: 184, Fecha de Venta: 2024-07-31, Proceso: PROFORMA, ID Producto: 32, Producto: FISSOZONO CREMA  ANTIEDAD DIA 50 ML\\t, Cantidad Vendida: 1.0, Precio Venta: 170.0, Sucursal: Central, Vendedor: master',\n",
       " 'ID Venta: 185, Fecha de Venta: 2024-07-31, Proceso: PAGADO, ID Producto: 23, Producto: FORMULA 3: TRI L, Cantidad Vendida: 1.0, Precio Venta: 209.0, Sucursal: Central, Vendedor: master',\n",
       " 'ID Venta: 185, Fecha de Venta: 2024-07-31, Proceso: PAGADO, ID Producto: 24, Producto: HYALU B5 SERUM 30ML, Cantidad Vendida: 2.0, Precio Venta: 207.0, Sucursal: Central, Vendedor: master',\n",
       " 'ID Venta: 186, Fecha de Venta: 2024-08-01, Proceso: PAGADO, ID Producto: 42, Producto: PHOTODERM SPOT-AGE  SPF  50+ 40ML\\t, Cantidad Vendida: 2.0, Precio Venta: 130.0, Sucursal: Central, Vendedor: master',\n",
       " 'ID Venta: 186, Fecha de Venta: 2024-08-01, Proceso: PAGADO, ID Producto: 45, Producto: HIDRO 24 CREMA PIEL MIXTA GEL 50 ML\\t, Cantidad Vendida: 1.0, Precio Venta: 120.0, Sucursal: Central, Vendedor: master',\n",
       " 'ID Venta: 186, Fecha de Venta: 2024-08-01, Proceso: PAGADO, ID Producto: 63, Producto: HIDRO 24 PIELES REACTIVAS 50 ML\\t, Cantidad Vendida: 2.0, Precio Venta: 103.0, Sucursal: Central, Vendedor: master',\n",
       " 'ID Venta: 187, Fecha de Venta: 2024-08-01, Proceso: PROFORMA, ID Producto: 50, Producto: PHOTODERM AKN MAT SPF30 , Cantidad Vendida: 1.0, Precio Venta: 110.0, Sucursal: Central, Vendedor: master',\n",
       " 'ID Venta: 188, Fecha de Venta: 2024-08-01, Proceso: PAGADO, ID Producto: 101, Producto: FORMULA 15: VERULAC -  AC.SALICILICO17.5% AC.LACTICO 17.5% COLODION ELASTICO CSP 14ML\\t, Cantidad Vendida: 4.0, Precio Venta: 55.0, Sucursal: Central, Vendedor: master',\n",
       " 'ID Venta: 188, Fecha de Venta: 2024-08-01, Proceso: PAGADO, ID Producto: 54, Producto: EAU THERMALE 300 ML (AGUA TERMAL)\\t, Cantidad Vendida: 1.0, Precio Venta: 110.0, Sucursal: Central, Vendedor: master',\n",
       " 'ID Venta: 189, Fecha de Venta: 2024-08-01, Proceso: PAGADO, ID Producto: 37, Producto: SOOLANTRA 1%CREMA 30GR  (IVERMECTINA )\\t, Cantidad Vendida: 1.0, Precio Venta: 154.0, Sucursal: Central, Vendedor: master',\n",
       " 'ID Venta: 189, Fecha de Venta: 2024-08-01, Proceso: PAGADO, ID Producto: 116, Producto: AMOXICLIN CL12H //AMOXICILINA / ACIDO CALVULANICO 875MG 125\\t, Cantidad Vendida: 3.0, Precio Venta: 7.5, Sucursal: Central, Vendedor: master',\n",
       " 'ID Venta: 190, Fecha de Venta: 2024-08-01, Proceso: PROFORMA, ID Producto: 27, Producto: FISSERUM HYALURONIC 100, 30 ML\\t, Cantidad Vendida: 1.0, Precio Venta: 176.0, Sucursal: Central, Vendedor: master',\n",
       " 'ID Venta: 191, Fecha de Venta: 2024-08-02, Proceso: PAGADO, ID Producto: 30, Producto: FISSERUM NIGTH RETINOL 3 COMPLEX, SQUALANE, HYALURONIC, 30ML\\t, Cantidad Vendida: 1.0, Precio Venta: 170.0, Sucursal: Central, Vendedor: master',\n",
       " 'ID Venta: 191, Fecha de Venta: 2024-08-02, Proceso: PAGADO, ID Producto: 34, Producto: PHOTODERM AQUAFLUIDE DORE TE40ML, Cantidad Vendida: 2.0, Precio Venta: 166.0, Sucursal: Central, Vendedor: master',\n",
       " 'ID Venta: 192, Fecha de Venta: 2024-08-02, Proceso: PAGADO, ID Producto: 50, Producto: PHOTODERM AKN MAT SPF30 , Cantidad Vendida: 1.0, Precio Venta: 110.0, Sucursal: Central, Vendedor: master',\n",
       " 'ID Venta: 192, Fecha de Venta: 2024-08-02, Proceso: PAGADO, ID Producto: 118, Producto: ACNECLIN 100 AP   MINOCICLINA 100MG  X 30 CAP\\t, Cantidad Vendida: 3.0, Precio Venta: 6.0, Sucursal: Central, Vendedor: master']"
      ]
     },
     "execution_count": 79,
     "metadata": {},
     "output_type": "execute_result"
    }
   ],
   "source": [
    "textos_preparados # Mostrar textos preparados   #context_str"
   ]
  },
  {
   "cell_type": "markdown",
   "metadata": {},
   "source": [
    "## IMPORTAMO Y SELECCIONAMOS EL MODELO"
   ]
  },
  {
   "cell_type": "code",
   "execution_count": 82,
   "metadata": {},
   "outputs": [
    {
     "name": "stdout",
     "output_type": "stream",
     "text": [
      "🅿️ PREGUNTA: que productos se vendieron con el idventa 192 y cuanto en soles se vendió\n",
      "\n",
      "▶️ Respuesta: \n",
      " Se vendieron PHOTODERM AKN MAT SPF30 (1 unitario) por 110.00 Soles y ACNECLIN 100 AP (3 unidades) por 6.00 Soles\n",
      "\n"
     ]
    }
   ],
   "source": [
    "import ollama\n",
    "\n",
    "ollama.pull(\"llama3.1:8b\") # Descargar modelo Llama 3.1:8B\n",
    "\n",
    "MODELO = \"llama3.1:8b\"  # Modelo Llama 3.1:8B para generar texto con contexto adicional \n",
    "\n",
    "def generate_text_with_context(prompt: str, context: str) -> str:\n",
    "    \"\"\"\n",
    "    Genera texto utilizando el modelo Llama 3.1:8B, incorporando contexto adicional.\n",
    "\n",
    "    Args:\n",
    "        prompt (str): Texto inicial para la generación.\n",
    "        context (str): Información de contexto adicional.\n",
    "\n",
    "    Returns:\n",
    "        str: Texto generado.\n",
    "    \"\"\"\n",
    "    combined_prompt = f\"Contexto: {context}\\n\\nPregunta: {prompt}\\n\\nRespuesta:\"\n",
    "    response = ollama.chat(\n",
    "        model=MODELO,\n",
    "        messages=[{'role': 'assistant', 'content': combined_prompt}],\n",
    "        stream=True,\n",
    "    )\n",
    "    respuesta_completa = \"\"\n",
    "    for chunk in response:\n",
    "        respuesta_completa += chunk['message']['content']\n",
    "    return respuesta_completa\n",
    "    #response = ollama.generate(MODELO, combined_prompt)\n",
    "    #return response[\"response\"]\n",
    "\n",
    "def main():\n",
    "    while True:\n",
    "        prompt = input(\"Ingrese su pregunta: \")\n",
    "        if prompt.lower() in ['exit', 'salir', 'quit']:\n",
    "            break\n",
    "        print(f\"🅿️ PREGUNTA: {prompt}\\n\")\n",
    "        generated_text = generate_text_with_context(prompt, context_str)\n",
    "        print(f\"▶️ Respuesta: \\n{generated_text}\\n\")\n",
    "\n",
    "if __name__ == \"__main__\":\n",
    "    main()"
   ]
  }
 ],
 "metadata": {
  "kernelspec": {
   "display_name": "cibertec",
   "language": "python",
   "name": "python3"
  },
  "language_info": {
   "codemirror_mode": {
    "name": "ipython",
    "version": 3
   },
   "file_extension": ".py",
   "mimetype": "text/x-python",
   "name": "python",
   "nbconvert_exporter": "python",
   "pygments_lexer": "ipython3",
   "version": "3.12.4"
  }
 },
 "nbformat": 4,
 "nbformat_minor": 2
}
