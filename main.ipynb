{
 "cells": [
  {
   "cell_type": "markdown",
   "metadata": {},
   "source": [
    "## MODELO DECODER"
   ]
  },
  {
   "cell_type": "markdown",
   "metadata": {},
   "source": [
    "#### INSTALACIÓN DE DEPENDENCIAS\n",
    "   - %pip install pandas\n",
    "   - %pip install python-dotenv\n",
    "   - %pip install openai\n",
    "   "
   ]
  },
  {
   "cell_type": "markdown",
   "metadata": {},
   "source": [
    "#### PREPARAMOS LA DATA"
   ]
  },
  {
   "cell_type": "code",
   "execution_count": 83,
   "metadata": {},
   "outputs": [],
   "source": [
    "from typing import List\n",
    "import pandas as pd\n",
    "\n",
    "# Cargar datos consolidados de ventas y productos desde archivo CSV a DataFrame de Pandas\n",
    "file_path = 'databd/datos_procesados.csv'\n",
    "data = pd.read_csv(file_path) #leer archivo csv y lo guardamos en la variable data\n",
    "\n",
    "def preparar_textos(df: pd.DataFrame) -> List[str]:\n",
    "    \"\"\"\n",
    "    Prepara una lista de textos a partir de un DataFrame consolidado.\n",
    "\n",
    "    Args:\n",
    "        df (pd.DataFrame): DataFrame consolidado.\n",
    "\n",
    "    Returns:\n",
    "        List[str]: Lista de textos preparados para el modelo.\n",
    "    \"\"\"\n",
    "    #textos = df.apply(lambda row: f\"IDVenta: {row['venta_id']}, Fecha de Venta: {row['venta_fecha']}, Proceso: {row['venta_proceso']}, IDproducto: {row['prod_id']}, Producto: {row['prod_nombre']}, Cantidad Vendida: {row['cantidad_venta']}, Precio Venta: {row['precio_venta_x']}, Sucursal: {row['suc_nombre']}, Vendedor: {row['user_name']}\",axis=1)\n",
    "    textos = df.apply(lambda row: (\n",
    "        f\"ID Venta: {row['venta_id']}, \"\n",
    "        f\"Fecha de Venta: {row['venta_fecha']}, \"\n",
    "        f\"Proceso: {row['venta_proceso']}, \"\n",
    "        f\"ID Producto: {row['prod_id']}, \"\n",
    "        f\"Producto: {row['prod_nombre']}, \"\n",
    "        f\"Cantidad Vendida: {row['cantidad_venta']}, \"\n",
    "        f\"Precio Venta: {row['precio_venta_x']}, \"\n",
    "        f\"Sucursal: {row['suc_nombre']}, \"\n",
    "        f\"Vendedor: {row['user_name']}\"\n",
    "    ), axis=1)\n",
    "    return textos.tolist()  # Convertir a lista de Python y retornar los textos preparados en una lista\n",
    "\n",
    "# Preparar textos\n",
    "textos_preparados = preparar_textos(data) # llamamos a la funcion preparar_textos y le pasamos el dataframe data y lo guardamos en la variable textos_preparados\n",
    "context_str = \"\\n\".join(textos_preparados) # unimos los textos preparados en un solo string y lo guardamos en la variable context_str"
   ]
  },
  {
   "cell_type": "markdown",
   "metadata": {},
   "source": [
    "#### CARGAMOS EL MODELO"
   ]
  },
  {
   "cell_type": "code",
   "execution_count": 89,
   "metadata": {},
   "outputs": [],
   "source": [
    "from openai import OpenAI  # Importamos la clase OpenAI desde el módulo openai\n",
    "from dotenv import load_dotenv # Importarmos la función load_dotenv desde el módulo dotenv\n",
    "\n",
    "# Cargar las variables de entorno desde el archivo .env (LA API KEY)\n",
    "load_dotenv()\n",
    "\n",
    "# Creamos el cliente de OpenAI\n",
    "client = OpenAI()\n"
   ]
  },
  {
   "cell_type": "markdown",
   "metadata": {},
   "source": [
    "CREAMOS LA FUNCIÓN GENERAR TEXTO"
   ]
  },
  {
   "cell_type": "code",
   "execution_count": 100,
   "metadata": {},
   "outputs": [],
   "source": [
    "def generar_texto_OPENAI(prompt: str, context: str) -> str:\n",
    "    \"\"\"\n",
    "    Genera un texto a partir de un prompt y un contexto, utilizando streaming para mostrar el texto generado en tiempo real.\n",
    "\n",
    "    Args:\n",
    "        prompt (str): Prompt para el modelo.\n",
    "        context (str): Contexto para el modelo.\n",
    "\n",
    "    Returns:\n",
    "        str: Texto generado por el modelo.\n",
    "    \"\"\"\n",
    "    response = client.chat.completions.create(\n",
    "        model=\"gpt-4o-mini\", # Modelo de lenguaje GPT-4o-mini de OpenAI (versión más pequeña)\n",
    "        messages=[\n",
    "            {\"role\": \"system\", \"content\": context}, # Contexto del chat (mensajes previos) para el modelo de lenguaje de OpenAI \n",
    "            {\"role\": \"user\", \"content\": prompt} # Prompt del usuario para el modelo de lenguaje de OpenAI y pueda responder\n",
    "        ],\n",
    "    )\n",
    "    return response.choices[0].message.content  # Retornar el texto generado por el modelo de lenguaje de OpenAI (respuesta) "
   ]
  },
  {
   "cell_type": "code",
   "execution_count": 101,
   "metadata": {},
   "outputs": [
    {
     "name": "stdout",
     "output_type": "stream",
     "text": [
      "🅿️ PREGUNTA: cuantos y que productos se vendieron en la venta id 192\n",
      "\n",
      "▶️ Respuesta: \n",
      "En la venta con ID 192, se vendieron los siguientes productos:\n",
      "\n",
      "1. **Producto:** PHOTODERM AKN MAT SPF30\n",
      "   - **Cantidad Vendida:** 1.0\n",
      "   - **Precio Venta:** 110.0\n",
      "\n",
      "2. **Producto:** ACNECLIN 100 AP MINOCICLINA 100MG X 30 CAP\n",
      "   - **Cantidad Vendida:** 3.0\n",
      "   - **Precio Venta:** 6.0\n",
      "\n",
      "Entonces, en total, se vendieron 4 productos en la venta ID 192.\n",
      "\n"
     ]
    }
   ],
   "source": [
    "def main():\n",
    "    \n",
    "    while True:\n",
    "        prompt = input(\"Ingrese su pregunta: \")\n",
    "        if prompt.lower() in ['exit', 'salir', 'quit']:\n",
    "            break\n",
    "        print(f\"🅿️ PREGUNTA: {prompt}\\n\")\n",
    "        generated_text = generar_texto_OPENAI(prompt, context_str)\n",
    "        print(f\"▶️ Respuesta: \\n{generated_text}\\n\")\n",
    "\n",
    "if __name__ == \"__main__\":\n",
    "    main()"
   ]
  }
 ],
 "metadata": {
  "language_info": {
   "name": "python"
  }
 },
 "nbformat": 4,
 "nbformat_minor": 2
}
